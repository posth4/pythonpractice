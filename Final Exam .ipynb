{
 "cells": [
  {
   "cell_type": "markdown",
   "id": "c24a369e",
   "metadata": {},
   "source": [
    "# Question 2\n",
    "Please paste the following line of Python code in your coding environment:\n",
    "greeting = \"  Hello, little people of Earth!      \"\n",
    "\n",
    "Perform the following operations using a combination of Python functions, string methods, and math capabilities.\n",
    "\n",
    "Determine the length of the string.\n",
    "Determine if this length is evenly divisible by 5.\n",
    "Create and store a new version of the string in a newly named variable that removes any spaces at the end or the beginning of the string.\n",
    "Using string you created in step 2, store the first 5 characters of the string in a new variable.\n",
    "Using the string you created in step 4, append 59 'o' characters to the string and print out the result."
   ]
  },
  {
   "cell_type": "code",
   "execution_count": 2,
   "id": "461341b2",
   "metadata": {},
   "outputs": [
    {
     "name": "stdout",
     "output_type": "stream",
     "text": [
      "Helloooooooooooooooooooooooooooooooooooooooooooooooooooooooooooo\n"
     ]
    }
   ],
   "source": [
    "greeting = \"Hello, little people of Earth!\"\n",
    "\n",
    "#determine length of string \n",
    "length_of_string = len(greeting)\n",
    "\n",
    "#determine if length is evenly divisible by 5 \n",
    "divisible_by_5 = length_of_string % 5 == 0\n",
    "\n",
    "#Create and store a new version of the string in a newly named variable \n",
    "#that removes any spaces at the end or the beginning of the string.\n",
    "new_greeting = greeting.strip()\n",
    "\n",
    "#using string created in 2 store the first 5 characters of the string in a new variable\n",
    "first_5_characters = new_greeting [:5]\n",
    "\n",
    "#Using the string you created in step 4, append 59 'o' characters to the string and print out the result.\n",
    "result_string = first_5_characters + 'o' * 59\n",
    "print (result_string)\n"
   ]
  },
  {
   "cell_type": "markdown",
   "id": "024e4a19",
   "metadata": {},
   "source": [
    "# Question 3 \n",
    "Please define a function named wow_kazow that accepts a number and then returns one of the following values:\n",
    "\n",
    "The function returns \"wow\" if the number is evenly divisible by 5.\n",
    "The function returns \"kazow\" if the number is evenly divisible by 7.\n",
    "The function returns \"wowkazow\" if the number is evenly divisible by 5 and 7.\n",
    "The function returns the number it was originally passed if the number is not divisible by either 5 or 7.\n",
    "Finally, please define a main function that loops through numbers 41 through 89 (inclusive) as inputs to the wow_kazow function and prints each of the results. Your instructor will call this main method to test your solution."
   ]
  },
  {
   "cell_type": "code",
   "execution_count": 6,
   "id": "80dce488",
   "metadata": {},
   "outputs": [
    {
     "name": "stdout",
     "output_type": "stream",
     "text": [
      "41\n",
      "kazow\n",
      "43\n",
      "44\n",
      "wow\n",
      "46\n",
      "47\n",
      "48\n",
      "kazow\n",
      "wow\n",
      "51\n",
      "52\n",
      "53\n",
      "54\n",
      "wow\n",
      "kazow\n",
      "57\n",
      "58\n",
      "59\n",
      "wow\n",
      "61\n",
      "62\n",
      "kazow\n",
      "64\n",
      "wow\n",
      "66\n",
      "67\n",
      "68\n",
      "69\n",
      "wowkazow\n",
      "71\n",
      "72\n",
      "73\n",
      "74\n",
      "wow\n",
      "76\n",
      "kazow\n",
      "78\n",
      "79\n",
      "wow\n",
      "81\n",
      "82\n",
      "83\n",
      "kazow\n",
      "wow\n",
      "86\n",
      "87\n",
      "88\n",
      "89\n"
     ]
    }
   ],
   "source": [
    "#define function\n",
    "def wow_kazow(number):\n",
    "\n",
    "# 1st condition to check if the input \"number\" is evenly divisible by both 5 and 7, return to wow_kazow\n",
    "    if number % 5 == 0 and number % 7 == 0:\n",
    "        return \"wowkazow\"\n",
    "# 2nd condition checks if evenly divisible by 5, will return to wow\n",
    "    elif number % 5 == 0:\n",
    "        return \"wow\"\n",
    "# 3rd condition checks if evenly divisble by 7, return to kazow \n",
    "    elif number % 7 == 0:\n",
    "        return \"kazow\"\n",
    "# final condition happens when no previous conditions were met\n",
    "#if number isnt divisible by 5 or 7 it returns to orginal inputed number\n",
    "    else:\n",
    "        return number \n",
    "\n",
    "#create main function\n",
    "def main():\n",
    "#create loop that goes through numbers 41 to 89 \n",
    "    for number in range (41, 90):\n",
    "        result = wow_kazow(number)\n",
    "#print result \n",
    "        print(result)\n",
    "#check script and call to main function\n",
    "if __name__ == \"__main__\":\n",
    "    main()"
   ]
  },
  {
   "cell_type": "markdown",
   "id": "b840b971",
   "metadata": {},
   "source": [
    "# Question 4 \n",
    "Please create two classes that implement all of the names, data attributes, and methods reflected in the following UML diagram. These classes will be used within an inventory management system for ACME Eyewear.\n",
    "\n",
    "The __str__() method in both classes should create a reasonable string representation for use in calls to the Python print() function."
   ]
  },
  {
   "cell_type": "code",
   "execution_count": 17,
   "id": "7b1fca3f",
   "metadata": {},
   "outputs": [
    {
     "name": "stdout",
     "output_type": "stream",
     "text": [
      "Color: Black\n",
      "Price: $100\n",
      "Prescription: 2.0\n",
      "Color: Brown\n",
      "Price: $120\n",
      "Prescription: 2.5\n",
      "Reading Prescription: 3.0\n"
     ]
    }
   ],
   "source": [
    "class Glasses:\n",
    "#what we will be defining \n",
    "    def __init__(self, color, price, prescription):\n",
    "        self._price = price \n",
    "        self._prescription = prescription\n",
    "        self._color = color \n",
    "#set and get values of price and prescription \n",
    "    # setters\n",
    "    def set_price(self, price):\n",
    "        self._price = price\n",
    "\n",
    "    def set_prescription(self, prescription):\n",
    "        self._prescription = prescription\n",
    "\n",
    "    # getters\n",
    "    def get_price(self):\n",
    "        return self._price\n",
    "\n",
    "    def get_prescription(self):\n",
    "        return self._prescription\n",
    "#define string\n",
    "    def __str__(self):\n",
    "        return f\"Color: {self._color}\\n\" \\\n",
    "               f\"Price: ${self._price}\\n\" \\\n",
    "               f\"Prescription: {self._prescription}\"\n",
    "#create reading glasses class (subclass)\n",
    "class _ReadingGlasses(Glasses):\n",
    "#define superclass inputs \n",
    "    def __init__(self, color, price, prescription, reading_prescription):\n",
    "        super().__init__(color, price, prescription)\n",
    "#set reading classes features to own definitions\n",
    "        self.reading_prescription = reading_prescription\n",
    "#setter reading prescription\n",
    "    def set_reading_prescription(self, reading_prescription):\n",
    "        self.reading_prescription = reading_prescription\n",
    "#getter reading prescription\n",
    "    def get_reading_prescription(self):\n",
    "        return self.reading_prescription\n",
    "#define string\n",
    "    def __str__(self):\n",
    "        return super().__str__() + f\"\\nReading Prescription: {self.reading_prescription}\"\n",
    "\n",
    "# example \n",
    "regular_glasses = Glasses(\"Black\", 100, \"2.0\")\n",
    "print(regular_glasses)\n",
    "\n",
    "reading_glasses = _ReadingGlasses(\"Brown\", 120, \"2.5\", \"3.0\")\n",
    "print(reading_glasses)\n",
    "        \n",
    "        \n",
    "        \n",
    "             "
   ]
  }
 ],
 "metadata": {
  "kernelspec": {
   "display_name": "Python 3 (ipykernel)",
   "language": "python",
   "name": "python3"
  },
  "language_info": {
   "codemirror_mode": {
    "name": "ipython",
    "version": 3
   },
   "file_extension": ".py",
   "mimetype": "text/x-python",
   "name": "python",
   "nbconvert_exporter": "python",
   "pygments_lexer": "ipython3",
   "version": "3.10.9"
  }
 },
 "nbformat": 4,
 "nbformat_minor": 5
}
