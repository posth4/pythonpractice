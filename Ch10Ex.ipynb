{
 "cells": [
  {
   "cell_type": "markdown",
   "id": "fbabee68",
   "metadata": {},
   "source": [
    "## Programming Exercise 1 - Pet Class\n",
    "Write a program that creates an object of the class and prompts the user to enter the name, type, and age of his or her pet. This data should be stored as the object’s attributes. Use the object’s accessor methods to retrieve the pet’s name, type, and age and display this data on the screen."
   ]
  },
  {
   "cell_type": "code",
   "execution_count": 6,
   "id": "7d380703",
   "metadata": {},
   "outputs": [
    {
     "name": "stdout",
     "output_type": "stream",
     "text": [
      "What's your pet's name? Neve\n",
      "What type of animal? German Shepard \n",
      "How old is your pet? 10\n",
      "\n",
      "Your pet information:\n",
      "Pet name: Neve\n",
      "Animal type: German Shepard \n",
      "Age: 10\n"
     ]
    }
   ],
   "source": [
    "import pet \n",
    "\n",
    "def main():\n",
    "    name = input(\"What's your pet's name? \")\n",
    "    animal_type = input(\"What type of animal? \")\n",
    "    age = input(\"How old is your pet? \")\n",
    "\n",
    "    my_pet = pet.Pet(name, animal_type, age)\n",
    "\n",
    "    print(\"\\nYour pet information:\")\n",
    "    print(\"Pet name:\", my_pet.get_name())\n",
    "    print(\"Animal type:\", my_pet.get_animal_type())\n",
    "    print(\"Age:\", my_pet.get_age())\n",
    "\n",
    "if __name__ == \"__main__\":\n",
    "    main()"
   ]
  },
  {
   "cell_type": "markdown",
   "id": "866745da",
   "metadata": {},
   "source": [
    "## Programming Exercise 3"
   ]
  },
  {
   "cell_type": "code",
   "execution_count": 17,
   "id": "7140b32b",
   "metadata": {},
   "outputs": [
    {
     "name": "stdout",
     "output_type": "stream",
     "text": [
      "Person 1:\n",
      "Name: Julia Orlando\n",
      "Address: 1331 Sandlewood Drive\n",
      "Age: None\n",
      "Phone Number: 123-456-7890\n",
      "\n",
      "Person 2:\n",
      "Name: Logan Szalk\n",
      "Address: 3635 Jamestown Street\n",
      "Age: None\n",
      "Phone Number: 987-654-3210\n",
      "\n",
      "Person 3:\n",
      "Name: Jenna Johnson\n",
      "Address: 1111 Eldora Court\n",
      "Age: None\n",
      "Phone Number: 555-123-4567\n"
     ]
    }
   ],
   "source": [
    "from person import PersonalData\n",
    "\n",
    "def main():\n",
    "    # Create three instances of the PersonalData class\n",
    "    person1 = PersonalData(\"Julia Orlando\", \"1331 Sandlewood Drive\", 20, \"123-456-7890\")\n",
    "    person2 = PersonalData(\"Logan Szalk\", \"3635 Jamestown Street\", 19, \"987-654-3210\")\n",
    "    person3 = PersonalData(\"Jenna Johnson\", \"1111 Eldora Court\", 18, \"555-123-4567\")\n",
    "\n",
    "    # Display information for each person\n",
    "    print(\"Person 1:\")\n",
    "    print(\"Name:\", person1.get_name())\n",
    "    print(\"Address:\", person1.get_address())\n",
    "    print(\"Age:\", person1.get_age(20))\n",
    "    print(\"Phone Number:\", person1.get_phone_number())\n",
    "\n",
    "    print(\"\\nPerson 2:\")\n",
    "    print(\"Name:\", person2.get_name())\n",
    "    print(\"Address:\", person2.get_address())\n",
    "    print(\"Age:\", person2.get_age(19))\n",
    "    print(\"Phone Number:\", person2.get_phone_number())\n",
    "\n",
    "    print(\"\\nPerson 3:\")\n",
    "    print(\"Name:\", person3.get_name())\n",
    "    print(\"Address:\", person3.get_address())\n",
    "    print(\"Age:\", person3.get_age(18))\n",
    "    print(\"Phone Number:\", person3.get_phone_number())\n",
    "\n",
    "if __name__ == \"__main__\":\n",
    "    main()"
   ]
  }
 ],
 "metadata": {
  "kernelspec": {
   "display_name": "Python 3 (ipykernel)",
   "language": "python",
   "name": "python3"
  },
  "language_info": {
   "codemirror_mode": {
    "name": "ipython",
    "version": 3
   },
   "file_extension": ".py",
   "mimetype": "text/x-python",
   "name": "python",
   "nbconvert_exporter": "python",
   "pygments_lexer": "ipython3",
   "version": "3.10.9"
  }
 },
 "nbformat": 4,
 "nbformat_minor": 5
}
