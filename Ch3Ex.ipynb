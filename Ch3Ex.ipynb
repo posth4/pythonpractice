{
 "cells": [
  {
   "cell_type": "markdown",
   "id": "bc4d191d-4076-42ae-9b88-dfc99ddc53b9",
   "metadata": {},
   "source": [
    "# Chapter 3 Exercises "
   ]
  },
  {
   "cell_type": "markdown",
   "id": "490226c2-0b75-4a58-825c-3093c87e700e",
   "metadata": {},
   "source": [
    "## Algorithm Workbench Question 4\n",
    "In this question, we are asked to find errors in the given if-else statements and rewrite them in proper code. \n"
   ]
  },
  {
   "cell_type": "code",
   "execution_count": 3,
   "id": "5ed6ce22-a6d3-49fc-a122-d427683efbf6",
   "metadata": {},
   "outputs": [
    {
     "ename": "SyntaxError",
     "evalue": "invalid non-printable character U+00A0 (598304246.py, line 2)",
     "output_type": "error",
     "traceback": [
      "\u001b[0;36m  Cell \u001b[0;32mIn[3], line 2\u001b[0;36m\u001b[0m\n\u001b[0;31m    if score >= A_score: print('Your grade is A.') else: if score >= B_score: print('Your grade is B.') else: if score >= C_score: print('Your grade is C.') else: if score >= D_score: print('Your grade is D.') else: print('Your grade is F.')\u001b[0m\n\u001b[0m      ^\u001b[0m\n\u001b[0;31mSyntaxError\u001b[0m\u001b[0;31m:\u001b[0m invalid non-printable character U+00A0\n"
     ]
    }
   ],
   "source": [
    "# This is the unedited code\n",
    "if score >= A_score: print('Your grade is A.') \n",
    "else: if score >= B_score: print('Your grade is B.')\n",
    "else: if score >= C_score: print('Your grade is C.') \n",
    "else: if score >= D_score: print('Your grade is D.') \n",
    "else: print('Your grade is F.')"
   ]
  },
  {
   "cell_type": "code",
   "execution_count": 34,
   "id": "8af9ba8c-aa0d-4f25-8eb5-8eb843ecfb2f",
   "metadata": {},
   "outputs": [
    {
     "ename": "IndentationError",
     "evalue": "unexpected indent (1560564799.py, line 3)",
     "output_type": "error",
     "traceback": [
      "\u001b[0;36m  Cell \u001b[0;32mIn[34], line 3\u001b[0;36m\u001b[0m\n\u001b[0;31m    print ('Your grade is A.')\u001b[0m\n\u001b[0m    ^\u001b[0m\n\u001b[0;31mIndentationError\u001b[0m\u001b[0;31m:\u001b[0m unexpected indent\n"
     ]
    }
   ],
   "source": [
    "# This is the edited code\n",
    "if score >= A_score:90\n",
    " print ('Your grade is A.')\n",
    "elif score >= B_SCORE:80\n",
    " print ('Your grade is B.')\n",
    "elif score >= C_SCORE:70 \n",
    " print ('Your grade is C.')\n",
    "elif score >= D_SCORE:60\n",
    " print ('Your grade is D.')\n",
    "else: \n",
    "   print('Your grade is an F.') "
   ]
  },
  {
   "cell_type": "markdown",
   "id": "99af8b16-8804-4825-a864-fb6c2b26f07f",
   "metadata": {},
   "source": [
    "## Algorithm Workbench Question 5 \n",
    "In this question, we are asked to \"Write nested decision structures that perform the following: If amount1 is greater than 10 and amount2 is less than 100, display the greater of amount1 and amount2.\""
   ]
  },
  {
   "cell_type": "code",
   "execution_count": null,
   "id": "f80489fe-458a-46bc-b7b3-cecc44566a02",
   "metadata": {},
   "outputs": [],
   "source": [
    "# Nested Decision Structure\n",
    "\n",
    "amount1=int(input('15:'))\n",
    "amount2=int(input('80:'))\n",
    "\n",
    "if amount1 > 10 and amount2 < 100:\n",
    "    if amount1 > amount2:\n",
    "          print ('amount1 is greater')\n",
    "    elif amount2>amount1:\n",
    "        print('amount2 is greater')\n",
    "else:\n",
    "    print('Amounts not in valid range')"
   ]
  },
  {
   "cell_type": "markdown",
   "id": "1b26a4cb-81a1-43b1-b618-cb45db711fb2",
   "metadata": {},
   "source": [
    "For this problem I used knowledge from the new concept of a nested decision structure. In this problem I used two levels of nesting including \"if\" and \"if-elif.\" By using these levels of structure it allows us to be able to show a step by step of structure for the code and for the code to be able to handle scenarios under different conditions."
   ]
  },
  {
   "cell_type": "markdown",
   "id": "5e8505e4-d94b-4510-800c-f9f5875db697",
   "metadata": {},
   "source": [
    "## Programming Exercise 1 \n",
    "In this exercise we are asked to write a program that asks the user for a number in the range of 1 through 7 that represent each day of the week, and it should show an error if there is a number outside of 1-7. "
   ]
  },
  {
   "cell_type": "code",
   "execution_count": null,
   "id": "1451b26b-e73d-4766-8293-ea26f980a71e",
   "metadata": {},
   "outputs": [],
   "source": [
    "day=int(input('Enter a number from 1 to 7: ')\n",
    "if day == 1:\n",
    "        print (day, 'is Sunday.')\n",
    "if day == 2:\n",
    "        print (day, 'is Monday.')\n",
    "if day == 3:\n",
    "        print (day, 'is Tuesday.')\n",
    "if day == 4:\n",
    "        print (day, 'is Wednesday.')\n",
    "if day == 5:\n",
    "        print (day, 'is Thursday.')\n",
    "if day == 6:\n",
    "        print (day, 'is Friday.')\n",
    "if day == 7:\n",
    "        print (day, 'is Saturday.')\n",
    "else: \n",
    "        print ('Error! Please enter a number 1 through 7.')"
   ]
  },
  {
   "cell_type": "markdown",
   "id": "94114d2e-d5ab-4c9a-9d75-b563e93996cb",
   "metadata": {},
   "source": [
    "## Programming Exercise 5\n",
    "In this exercise we are asked to write a program that asks the user to enter an object’s mass, then calculates its weight. "
   ]
  },
  {
   "cell_type": "code",
   "execution_count": null,
   "id": "212030f4-fe62-45c6-be43-2d1e9b368efe",
   "metadata": {},
   "outputs": [],
   "source": [
    "# weight = mass x 9.8\n",
    "\n",
    "mass = float(input('Enter an object\\'s mass:')\n",
    "             \n",
    "weight = mass * 9.8\n",
    "\n",
    "message = '\\nThe object'\n",
    "             \n",
    "if weight < 100:\n",
    "    message += 'is too light at' + format(weight, ',.2f') + 'newtons.'\n",
    "elif weight >= 100 and weight <= 500:\n",
    "    message += '\\'s weight at ' + format(weight, ',.2f') + 'is just right'\n",
    "elif weight > 500:\n",
    "    message += 'is too heavy at' + format(weight, ',.2f') + 'newtons.'\n",
    "print (message, end='n\\n\\')"
   ]
  },
  {
   "cell_type": "markdown",
   "id": "68815dc6-7c6e-4e24-8283-6495a46bcf95",
   "metadata": {},
   "source": [
    "The explination and steps for this code are:\n",
    "- I first made the input a float and created a variable for mass, weight and message that each correspond to their own action.\n",
    "- Then I used the if-elif statement to check each weight and message for each specific range. \n",
    "- The final line then shows the proper weight description"
   ]
  },
  {
   "cell_type": "markdown",
   "id": "ae026a94-249d-4991-a2fd-8411fc464f28",
   "metadata": {},
   "source": [
    "## Programming Exercise 15 February Days\n",
    "In this exercise we are asked to  write a program that asks the user to enter a year. The program should then display the number of days in February that year. There is specific criteria in this problem as follows: 1. Determine whether the year is divisible by 100. If it is, then it is a leap year if and only if it is also divisible by 400. For example, 2000 is a leap year, but 2100 is not. 2. If the year is not divisible by 100, then it is a leap year if and only if it is divisible by 4. For example, 2008 is a leap year, but 2009 is not."
   ]
  },
  {
   "cell_type": "code",
   "execution_count": null,
   "id": "3dd69fc0-8555-4aa2-94d0-97d5917130ea",
   "metadata": {},
   "outputs": [],
   "source": [
    "Year = int(input(\"Enter a year: \"))\n",
    "message = \"\"\n",
    "\n",
    "if year > 0:\n",
    "    #Valid\n",
    "    message = \"In \" + format(year) + \" February has \"\n",
    "\n",
    "    if year % 100 == 0:\n",
    "        # might be leap\n",
    "        if year % 400 == 0:\n",
    "            message += \"29\"\n",
    "        else:\n",
    "            message += \"28\"\n",
    "    else:\n",
    "        if year % 4 == 0:\n",
    "            message += \"29\"\n",
    "        else:\n",
    "            message += \"28\"\n",
    "\n",
    "    message += \" days.\"\n",
    "\n",
    "else:\n",
    "    #Invalid\n",
    "    message = \"Enter a year greater that 0\\n\" + \\\n",
    "              \"Rerun the program and try again.\"\n",
    "\n",
    "print(message)"
   ]
  },
  {
   "cell_type": "markdown",
   "id": "0a29872e-67ee-49b0-baf1-f1ca52acf3a6",
   "metadata": {},
   "source": [
    "In result, this code shows us what years are considered a leap year and which are not. We use the input of a year and the message to help create an output for each variety of years. The code checks if the year is greater than 0 to ensure it's a valid input, if it is valid then the code constructs the message string representing the year. Then the code will check if the year is divisable by 100, if not then it checks to see if its divisable by 4 to check for a leap year. If it is them February is assigned 29 days, if not then it is assigned 28 days. This connects to the message string. "
   ]
  }
 ],
 "metadata": {
  "kernelspec": {
   "display_name": "Python 3 (ipykernel)",
   "language": "python",
   "name": "python3"
  },
  "language_info": {
   "codemirror_mode": {
    "name": "ipython",
    "version": 3
   },
   "file_extension": ".py",
   "mimetype": "text/x-python",
   "name": "python",
   "nbconvert_exporter": "python",
   "pygments_lexer": "ipython3",
   "version": "3.10.9"
  }
 },
 "nbformat": 4,
 "nbformat_minor": 5
}
