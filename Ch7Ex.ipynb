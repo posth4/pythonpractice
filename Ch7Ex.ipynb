{
 "cells": [
  {
   "cell_type": "markdown",
   "id": "1c0dbf6b",
   "metadata": {},
   "source": [
    "# Chapter 7 Exercises"
   ]
  },
  {
   "cell_type": "markdown",
   "id": "522ba20f",
   "metadata": {},
   "source": [
    "## Algorithm Workbench 1 \n",
    "Write a statement that creates a list with the following strings: 'Einstein', 'Newton', 'Copernicus', and 'Kepler'."
   ]
  },
  {
   "cell_type": "code",
   "execution_count": 2,
   "id": "ca73215a",
   "metadata": {},
   "outputs": [
    {
     "name": "stdout",
     "output_type": "stream",
     "text": [
      "['Einstein', 'Newton', 'Copernicus', 'Kepler']\n"
     ]
    }
   ],
   "source": [
    "# Main Function\n",
    "def main():\n",
    "    # Define the variable of 'Scientists'\n",
    "    # Use brackets since we are making a list \n",
    "    # Make sure to use '' around each scientists name because they are string literals \n",
    "    scientists = ['Einstein','Newton', 'Copernicus', 'Kepler']\n",
    "    # Print function scientists\n",
    "    print(scientists)\n",
    "# Call to main function\n",
    "if __name__ == '__main__':\n",
    "    main()\n"
   ]
  },
  {
   "cell_type": "markdown",
   "id": "ce30a976",
   "metadata": {},
   "source": [
    "## Algorithm Workbench 2 \n",
    "What will the following code print?\n",
    "My prediction for this code is that it will print list 3 as both of the brackets either combined or added together."
   ]
  },
  {
   "cell_type": "code",
   "execution_count": null,
   "id": "645158d5",
   "metadata": {},
   "outputs": [],
   "source": [
    "list1 = [40,50,60]\n",
    "list2 = [10,20,30]\n",
    "list3 = list1 + list2\n",
    "print(list3)"
   ]
  },
  {
   "cell_type": "code",
   "execution_count": 3,
   "id": "3b544e4c",
   "metadata": {},
   "outputs": [
    {
     "name": "stdout",
     "output_type": "stream",
     "text": [
      "[40, 50, 60, 10, 20, 30]\n"
     ]
    }
   ],
   "source": [
    "list1 = [40,50,60]\n",
    "list2 = [10,20,30]\n",
    "list3 = list1 + list2\n",
    "print(list3)"
   ]
  },
  {
   "cell_type": "markdown",
   "id": "5f391a15",
   "metadata": {},
   "source": [
    "My prediction of the lists being combined was accurate. "
   ]
  },
  {
   "cell_type": "markdown",
   "id": "f922d283",
   "metadata": {},
   "source": [
    "## Programming Exercise 1 - Total Sales\n",
    "Design a program that asks the user to enter a store’s sales for each day of the week. The amounts should be stored in a list. Use a loop to calculate the total sales for the week and display the result."
   ]
  },
  {
   "cell_type": "code",
   "execution_count": null,
   "id": "2d2824b9",
   "metadata": {},
   "outputs": [],
   "source": [
    "# Main Function\n",
    "def main ():\n",
    "    # Empty list to store the sales in \n",
    "    sales = []\n",
    "    \n",
    "    \n",
    "    # List the days of the week\n",
    "days = ['Monday', 'Tuesday','Wednesday','Thursday','Friday']\n",
    "# To be able to have a user enter day of weel \n",
    "for day in days:\n",
    " #float/input allows user to type in sales for that day\n",
    "    sale_amount = float(input('Enter sales for {}: '.format(days)))\n",
    "    #append adds the sales to a list\n",
    "    sales.append (sale)\n",
    "    #begin with zero sales\n",
    "total = 0\n",
    "#set loop\n",
    "for amount in sales:\n",
    "    total += amount\n",
    "    \n",
    "# Print function to show totals \n",
    "print ('\\nThe total sales for the week is: {total_sales}'.format(total))\n",
    "\n",
    "#close function\n",
    "if __name__ == '__main__' :\n",
    "     main()\n",
    "    \n",
    "    \n",
    "    \n",
    "    "
   ]
  },
  {
   "cell_type": "markdown",
   "id": "ef4de53b",
   "metadata": {},
   "source": [
    "## Programing Exercise 14 - Expense Pie Chart \n",
    "Create a text file that contains your expenses for last month in the following categories:  Rent,Gas,Food,Clothing,Car payment,Misc. Write a Python program that reads the data from the file and uses matplotlib to plot a pie chart showing how you spend your money."
   ]
  },
  {
   "cell_type": "code",
   "execution_count": null,
   "id": "b780abb8",
   "metadata": {},
   "outputs": [],
   "source": [
    "# be able to display the pie chart using this module \n",
    "import matplotlib.pyplot as plt\n",
    "\n",
    "#create main function\n",
    "def main ():\n",
    "    #list expenses\n",
    "    expenses = [1500, 100, 350, 200, 2000, 500]\n",
    "    #add labels \n",
    "    slice_labels = ['rent', 'gas', 'food', 'clothing', 'car payment', 'misc.']\n",
    "    #create pie chart using lists above \n",
    "    plt.pie(expenses, labels = slice_labels)\n",
    "    #make a title for the pie chart \n",
    "    plt.title ('Last Months Expenses')\n",
    "    #display pie chart \n",
    "    plt.show()\n",
    "#call to function\n",
    "if __name__ == '__main__'\n",
    "    main()\n",
    "    "
   ]
  },
  {
   "cell_type": "markdown",
   "id": "0c4ba1ef",
   "metadata": {},
   "source": [
    "## Programming Exercise 2 - Lottery Number Generator\n",
    "Design a program that generates a seven-digit lottery number. The program should generate seven random numbers, each in the range of 0 through 9, and assign each number to a list element.  Then write another loop that displays the contents of the list."
   ]
  },
  {
   "cell_type": "code",
   "execution_count": null,
   "id": "25438639",
   "metadata": {},
   "outputs": [],
   "source": [
    "import random \n",
    "\n",
    "# maximum number of digits \n",
    "max_digits = 7\n",
    "# starting range of random numbers \n",
    "start = 0\n",
    "# ending range of random numbers \n",
    "end = 9 \n",
    "\n",
    "# main function\n",
    "def main():\n",
    "    #create list\n",
    "    numbers = [0] * 7\n",
    "    #populate list with random numbers \n",
    "    for index in range (max_digits) :\n",
    "        numbers[index] = random.randint (start, end)\n",
    "    #display random numbers\n",
    "    print ('Here are your lottery numbers: ')\n",
    "    for index in range (max_digits):\n",
    "        print (numbers[index], end= '')\n",
    "    print()\n",
    "#call main function\n",
    "main()"
   ]
  },
  {
   "cell_type": "markdown",
   "id": "26ab23e2",
   "metadata": {},
   "source": [
    "## Programming Exercise 6 \n",
    "In a program, write a function that accepts two arguments: a list, and a number n. Assume that the list contains numbers. The function should display all of the numbers in the list that are greater than the number n."
   ]
  },
  {
   "cell_type": "code",
   "execution_count": null,
   "id": "267c2b57",
   "metadata": {},
   "outputs": [],
   "source": [
    "#main function\n",
    "def main():\n",
    "def display_greater_numbers(numbers, n):\n",
    "#shows numbers in for loop\n",
    "    for num in numbers:\n",
    "#checks if num is greater than n \n",
    "        if num > n:\n",
    "            print(num)\n",
    "#example\n",
    "my_list = [1, 30, 4, 25, 9, 13]\n",
    "number_to_compare = 15\n",
    "#if all is true, then it will use print \n",
    "\n",
    "print(f\"Numbers greater than {number_to_compare}:\")\n",
    "display_greater_numbers(my_list, number_to_compare)\n",
    "\n",
    "#call main\n",
    "main()\n",
    "\n",
    "#will display all numbers in my list that are larger than the number to compare"
   ]
  }
 ],
 "metadata": {
  "kernelspec": {
   "display_name": "Python 3 (ipykernel)",
   "language": "python",
   "name": "python3"
  },
  "language_info": {
   "codemirror_mode": {
    "name": "ipython",
    "version": 3
   },
   "file_extension": ".py",
   "mimetype": "text/x-python",
   "name": "python",
   "nbconvert_exporter": "python",
   "pygments_lexer": "ipython3",
   "version": "3.10.9"
  }
 },
 "nbformat": 4,
 "nbformat_minor": 5
}
