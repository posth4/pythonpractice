{
 "cells": [
  {
   "cell_type": "markdown",
   "id": "6479a0e5",
   "metadata": {},
   "source": [
    "# Chapter 6 Exercises "
   ]
  },
  {
   "cell_type": "markdown",
   "id": "02ff7bb8",
   "metadata": {},
   "source": [
    "## Algorithm Workbench 1\n",
    "Write a program that opens an output file with the filename my_name.txt, writes your name to the file, then closes the file. "
   ]
  },
  {
   "cell_type": "code",
   "execution_count": 10,
   "id": "1e649de2",
   "metadata": {},
   "outputs": [
    {
     "name": "stdout",
     "output_type": "stream",
     "text": [
      "File is closed.\n"
     ]
    }
   ],
   "source": [
    "# This program will create a file that my name is written to\n",
    "\n",
    "    #Start by using main function \n",
    "def main():\n",
    "    # Open a file named my_name.txt and use 'w' becuase we are writing \n",
    "    filename = open ('my_name.txt', 'w')\n",
    "    \n",
    "    # Write the name being assigned to the file, using \"write\"\n",
    "    filename.write ('Hailey')\n",
    "    \n",
    "    # Close the file \n",
    "    filename.close()\n",
    "\n",
    "    # Print the close \n",
    "    print('File is closed.')\n",
    "    \n",
    "    # Call main function\n",
    "if __name__ == '__main__':\n",
    "    main()"
   ]
  },
  {
   "cell_type": "markdown",
   "id": "874590f9",
   "metadata": {},
   "source": [
    "## Algorithm Workbench 2\n",
    "Write a program that opens the my_name.txt file that was created by the program in problem 1, reads your name from the file, displays the name on the screen, then closes the file."
   ]
  },
  {
   "cell_type": "code",
   "execution_count": 15,
   "id": "789ca7ac",
   "metadata": {},
   "outputs": [
    {
     "name": "stdout",
     "output_type": "stream",
     "text": [
      "Name on file: Hailey\n"
     ]
    }
   ],
   "source": [
    "# This code will read my name from the file and display it \n",
    "\n",
    "# Start by using main function\n",
    "def main():\n",
    "    \n",
    "    # Open file my_name.txt, this time using 'r' because we are reading \n",
    "    filename = open ('my_name.txt', 'r')\n",
    "    \n",
    "    # Label as a name and use readline in order for the code to read the upcoming line \n",
    "    name = filename.readline()\n",
    "    \n",
    "    # Use print function to describe what is being read on the file \n",
    "    print (f'Name on file: Hailey')\n",
    "    \n",
    "    # Close the file \n",
    "    filename.close()\n",
    "    \n",
    "# Call main function\n",
    "if __name__ == '__main__':\n",
    "    main()\n",
    "    "
   ]
  },
  {
   "cell_type": "markdown",
   "id": "57978c68",
   "metadata": {},
   "source": [
    "## Programming Exercise 1 - File Display \n",
    "Assume a file containing a series of integers is named numbers.txt and exists on the computer’s disk. Write a program that displays all of the numbers in the file."
   ]
  },
  {
   "cell_type": "code",
   "execution_count": 20,
   "id": "535caf1b",
   "metadata": {},
   "outputs": [],
   "source": [
    "#Main Function\n",
    "def main ():\n",
    "    #open file named number.txt \n",
    "    with open(\"numbers.txt\", \"r\") as file:\n",
    "    #read file lines \n",
    "     lines = file.readlines()\n",
    "    #create list reading all numbers \n",
    "    numbers = []\n",
    "    #loop the lines for the file\n",
    "    for line in lines:\n",
    "            #store each line and continue loop \n",
    "              numbers.append(line.strip())\n",
    "     #print numbers in list \n",
    "    print(*numbers, sep=\", \")\n",
    "    #close function\n",
    "    main()"
   ]
  },
  {
   "cell_type": "code",
   "execution_count": 22,
   "id": "0bd6cb97",
   "metadata": {},
   "outputs": [
    {
     "ename": "FileNotFoundError",
     "evalue": "[Errno 2] No such file or directory: 'numbers.txt'",
     "output_type": "error",
     "traceback": [
      "\u001b[0;31m---------------------------------------------------------------------------\u001b[0m",
      "\u001b[0;31mFileNotFoundError\u001b[0m                         Traceback (most recent call last)",
      "Cell \u001b[0;32mIn[22], line 2\u001b[0m\n\u001b[1;32m      1\u001b[0m \u001b[38;5;66;03m#open file\u001b[39;00m\n\u001b[0;32m----> 2\u001b[0m myfile \u001b[38;5;241m=\u001b[39m \u001b[38;5;28;43mopen\u001b[39;49m\u001b[43m(\u001b[49m\u001b[38;5;124;43m'\u001b[39;49m\u001b[38;5;124;43mnumbers.txt\u001b[39;49m\u001b[38;5;124;43m'\u001b[39;49m\u001b[43m,\u001b[49m\u001b[43m \u001b[49m\u001b[38;5;124;43m'\u001b[39;49m\u001b[38;5;124;43mr\u001b[39;49m\u001b[38;5;124;43m'\u001b[39;49m\u001b[43m)\u001b[49m\n\u001b[1;32m      4\u001b[0m \u001b[38;5;66;03m#read and display files content\u001b[39;00m\n\u001b[1;32m      5\u001b[0m \u001b[38;5;28;01mfor\u001b[39;00m line \u001b[38;5;129;01min\u001b[39;00m myfile:\n",
      "File \u001b[0;32m~/anaconda3/lib/python3.10/site-packages/IPython/core/interactiveshell.py:282\u001b[0m, in \u001b[0;36m_modified_open\u001b[0;34m(file, *args, **kwargs)\u001b[0m\n\u001b[1;32m    275\u001b[0m \u001b[38;5;28;01mif\u001b[39;00m file \u001b[38;5;129;01min\u001b[39;00m {\u001b[38;5;241m0\u001b[39m, \u001b[38;5;241m1\u001b[39m, \u001b[38;5;241m2\u001b[39m}:\n\u001b[1;32m    276\u001b[0m     \u001b[38;5;28;01mraise\u001b[39;00m \u001b[38;5;167;01mValueError\u001b[39;00m(\n\u001b[1;32m    277\u001b[0m         \u001b[38;5;124mf\u001b[39m\u001b[38;5;124m\"\u001b[39m\u001b[38;5;124mIPython won\u001b[39m\u001b[38;5;124m'\u001b[39m\u001b[38;5;124mt let you open fd=\u001b[39m\u001b[38;5;132;01m{\u001b[39;00mfile\u001b[38;5;132;01m}\u001b[39;00m\u001b[38;5;124m by default \u001b[39m\u001b[38;5;124m\"\u001b[39m\n\u001b[1;32m    278\u001b[0m         \u001b[38;5;124m\"\u001b[39m\u001b[38;5;124mas it is likely to crash IPython. If you know what you are doing, \u001b[39m\u001b[38;5;124m\"\u001b[39m\n\u001b[1;32m    279\u001b[0m         \u001b[38;5;124m\"\u001b[39m\u001b[38;5;124myou can use builtins\u001b[39m\u001b[38;5;124m'\u001b[39m\u001b[38;5;124m open.\u001b[39m\u001b[38;5;124m\"\u001b[39m\n\u001b[1;32m    280\u001b[0m     )\n\u001b[0;32m--> 282\u001b[0m \u001b[38;5;28;01mreturn\u001b[39;00m \u001b[43mio_open\u001b[49m\u001b[43m(\u001b[49m\u001b[43mfile\u001b[49m\u001b[43m,\u001b[49m\u001b[43m \u001b[49m\u001b[38;5;241;43m*\u001b[39;49m\u001b[43margs\u001b[49m\u001b[43m,\u001b[49m\u001b[43m \u001b[49m\u001b[38;5;241;43m*\u001b[39;49m\u001b[38;5;241;43m*\u001b[39;49m\u001b[43mkwargs\u001b[49m\u001b[43m)\u001b[49m\n",
      "\u001b[0;31mFileNotFoundError\u001b[0m: [Errno 2] No such file or directory: 'numbers.txt'"
     ]
    }
   ],
   "source": [
    "#open file\n",
    "myfile = open('numbers.txt', 'r')\n",
    "\n",
    "#read and display files content\n",
    "for line in myfile:\n",
    "    number = int(line)\n",
    "    print(number)\n",
    "    \n",
    "#close file\n",
    "myfile.close()\n"
   ]
  },
  {
   "cell_type": "markdown",
   "id": "ce2bf56f",
   "metadata": {},
   "source": [
    "## Programming Exercise 6\n",
    "Assume a file containing a series of integers is named numbers.txt and exists on the computer’s disk. Write a program that calculates the average of all the numbers stored in the file."
   ]
  },
  {
   "cell_type": "code",
   "execution_count": 29,
   "id": "436b47dd",
   "metadata": {},
   "outputs": [
    {
     "ename": "NameError",
     "evalue": "name 'file' is not defined",
     "output_type": "error",
     "traceback": [
      "\u001b[0;31m---------------------------------------------------------------------------\u001b[0m",
      "\u001b[0;31mNameError\u001b[0m                                 Traceback (most recent call last)",
      "Cell \u001b[0;32mIn[29], line 30\u001b[0m\n\u001b[1;32m     28\u001b[0m         \u001b[38;5;28mprint\u001b[39m(\u001b[38;5;124m'\u001b[39m\u001b[38;5;124mNo numbers found in the file.\u001b[39m\u001b[38;5;124m'\u001b[39m)\n\u001b[1;32m     29\u001b[0m \u001b[38;5;66;03m#close main \u001b[39;00m\n\u001b[0;32m---> 30\u001b[0m \u001b[43mmain\u001b[49m\u001b[43m(\u001b[49m\u001b[43m)\u001b[49m\n",
      "Cell \u001b[0;32mIn[29], line 5\u001b[0m, in \u001b[0;36mmain\u001b[0;34m()\u001b[0m\n\u001b[1;32m      2\u001b[0m \u001b[38;5;28;01mdef\u001b[39;00m \u001b[38;5;21mmain\u001b[39m():\n\u001b[1;32m      3\u001b[0m \u001b[38;5;66;03m# Open the file for readingwith open(\"numbers.txt\", \"r\") as file:\u001b[39;00m\n\u001b[1;32m      4\u001b[0m     \u001b[38;5;66;03m# Read all lines from the file\u001b[39;00m\n\u001b[0;32m----> 5\u001b[0m     lines \u001b[38;5;241m=\u001b[39m \u001b[43mfile\u001b[49m\u001b[38;5;241m.\u001b[39mreadlines()\n\u001b[1;32m      7\u001b[0m     \u001b[38;5;66;03m# Initialize variables\u001b[39;00m\n\u001b[1;32m      8\u001b[0m     total \u001b[38;5;241m=\u001b[39m \u001b[38;5;241m0\u001b[39m\n",
      "\u001b[0;31mNameError\u001b[0m: name 'file' is not defined"
     ]
    }
   ],
   "source": [
    "#main function\n",
    "def main():\n",
    "# Open the file for readingwith open(\"numbers.txt\", \"r\") as file:\n",
    "    # Read all lines from the file\n",
    "    lines = file.readlines()\n",
    "\n",
    "    # Initialize variables\n",
    "    total = 0\n",
    "    count = 0\n",
    "\n",
    "    # Loop through each line\n",
    "    for line in lines:\n",
    "        # Remove any leading or trailing whitespace\n",
    "        line = line.strip()\n",
    "\n",
    "        # Check if the line is not empty\n",
    "        if line:\n",
    "            # Convert the line to an integer and update total and count\n",
    "            number = int(line)\n",
    "            total += number\n",
    "            count += 1\n",
    "\n",
    "    # Calculate the average if there are numbers in the file\n",
    "    if count > 0:\n",
    "        average = total / count\n",
    "        print(\"Average:\", average)\n",
    "    else:\n",
    "        print('No numbers found in the file.')\n",
    "#close main \n",
    "main()"
   ]
  },
  {
   "cell_type": "code",
   "execution_count": 32,
   "id": "41a3f035",
   "metadata": {},
   "outputs": [
    {
     "name": "stdout",
     "output_type": "stream",
     "text": [
      "The average of the numbers in file is 15.0.\n"
     ]
    }
   ],
   "source": [
    "# Main function\n",
    "def main ():\n",
    "#Create a list of numbers\n",
    "    numbers = [5, 15, 16, 32, 7]\n",
    "#set beginning total to 0\n",
    "    total = 0 \n",
    "#create loop for listed numbers and wrote average \n",
    "    for value in numbers:\n",
    "        total += value\n",
    "#len shows that it takes total and divdes by it\n",
    "    average = total / len(numbers)\n",
    "#use print to show average numbers in file\n",
    "    print(f'The average of the numbers in file is {average}.')\n",
    "#call main function\n",
    "if __name__ == '__main__':\n",
    "    main()"
   ]
  },
  {
   "cell_type": "markdown",
   "id": "b8456c54",
   "metadata": {},
   "source": [
    "## Programming Exercise 9 - Exception Handing \n",
    "Modify the program that you wrote for Exercise 6 so it handles the following exceptions:  It should handle any IOError exceptions that are raised when the file is opened and data is read from it.It should handle any ValueError exceptions that are raised when the items that are read from the file are converted to a number.\n"
   ]
  },
  {
   "cell_type": "code",
   "execution_count": 33,
   "id": "c1d3811c",
   "metadata": {},
   "outputs": [
    {
     "name": "stdout",
     "output_type": "stream",
     "text": [
      "There is an error trying to read the file\n"
     ]
    }
   ],
   "source": [
    "#set main \n",
    "def main():\n",
    "#set try to deal with errors \n",
    "    try:\n",
    "#attempts to open numbers.txt\n",
    "        file = open('numbers.txt', 'r')\n",
    "#file is assigned to read because of \"readlines\"\n",
    "        number = file.readlines()\n",
    "#set beginning total to 0 \n",
    "        total = 0\n",
    "#create loop \n",
    "        for n in number:\n",
    "            total = total + int(n)\n",
    "#print is told to give answer\n",
    "        print(total/len(number))\n",
    "#IOError prints the message \"There is an error trying to read the file\", occurs if there is an issue with reading the file\n",
    "    except IOError:\n",
    "        print('There is an error trying to read the file')\n",
    "# ValueError prints the message \"Error: file must only have numbers\", occurs if there is a problem converting a line to an integer \n",
    "    except ValueError:\n",
    "        print('Error: file must only have numbers')\n",
    "if __name__ == '__main__':\n",
    "                  main()"
   ]
  },
  {
   "cell_type": "markdown",
   "id": "44d5a53e",
   "metadata": {},
   "source": [
    "## Programming Exercise 4 - Item Counter\n",
    "Assume a file containing a series of names (as strings) is named names.txt and exists on the computer’s disk. Write a program that displays the number of names that are stored in the file. (Hint: Open the file and read every string stored in it. Use a variable to keep a count of the number of items that are read from the file.)"
   ]
  },
  {
   "cell_type": "code",
   "execution_count": 35,
   "id": "a55008b7",
   "metadata": {},
   "outputs": [
    {
     "name": "stdout",
     "output_type": "stream",
     "text": [
      "An error occured trying to read the file.\n"
     ]
    }
   ],
   "source": [
    "def main():\n",
    "    #start the accumulator\n",
    "    total = 0.0\n",
    "\n",
    "    try:\n",
    "        # Open file named names.txt\n",
    "        myfile = open('names.txt', 'r')\n",
    "\n",
    "        # open loop\n",
    "        for line in myfile:\n",
    "        #display the files contents\n",
    "            words = line.split()\n",
    "            total += len(words)\n",
    "\n",
    "        # close the file\n",
    "        myfile.close()\n",
    "#IOError occurs during the file opening or reading process\n",
    "    except IOError:\n",
    "        print('An error occured trying to read the file.')\n",
    "#ValueError occurs during the conversion of a line to a floating-point number\n",
    "    except ValueError:\n",
    "        print('Non-numeric data found in the file.')\n",
    "# any other error uses except and then the print function to show that an error has occured \n",
    "    except:\n",
    "        print('An error occured.')\n",
    "\n",
    "# call main function\n",
    "main()"
   ]
  }
 ],
 "metadata": {
  "kernelspec": {
   "display_name": "Python 3 (ipykernel)",
   "language": "python",
   "name": "python3"
  },
  "language_info": {
   "codemirror_mode": {
    "name": "ipython",
    "version": 3
   },
   "file_extension": ".py",
   "mimetype": "text/x-python",
   "name": "python",
   "nbconvert_exporter": "python",
   "pygments_lexer": "ipython3",
   "version": "3.10.9"
  }
 },
 "nbformat": 4,
 "nbformat_minor": 5
}
