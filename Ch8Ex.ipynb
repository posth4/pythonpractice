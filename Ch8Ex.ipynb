{
 "cells": [
  {
   "cell_type": "markdown",
   "id": "f29b947d",
   "metadata": {},
   "source": [
    "# Chapter 8 Exercises "
   ]
  },
  {
   "cell_type": "markdown",
   "id": "452d2d1b",
   "metadata": {},
   "source": [
    "## Algorithm Workbench 1\n",
    "Assume choice references a string. The following if statement determines whether choice is equal to ‘Y’ or ‘y’:if choice == 'Y' or choice == 'y':   Rewrite this statement so it only makes one comparison, and does not use the or operator. (Hint: use either the upper or lower methods.)  "
   ]
  },
  {
   "cell_type": "code",
   "execution_count": 15,
   "id": "af2b9b14",
   "metadata": {},
   "outputs": [
    {
     "name": "stdout",
     "output_type": "stream",
     "text": [
      "Enter a choice: happy\n"
     ]
    }
   ],
   "source": [
    "#set main function\n",
    "def main ():\n",
    "#create input for choice \n",
    "    choice = input ('Enter a choice: ')\n",
    "#set if statement to check if choice is equal to y string \n",
    "#lower allows choice to be case insenitive \n",
    "    if choice.lower()== 'y':\n",
    "#use print function to print that y was converted \n",
    "        print(\"The \\'y\\'you chose was converted to a lowercase\")\n",
    "#close main \n",
    "if __name__ == '__main__':\n",
    " main()"
   ]
  },
  {
   "cell_type": "markdown",
   "id": "1d51470e",
   "metadata": {},
   "source": [
    "## Algorithm Workbench 4\n",
    "Write a loop that counts the number of lowercase characters that appear in the string referenced by ."
   ]
  },
  {
   "cell_type": "code",
   "execution_count": 25,
   "id": "3d73ae47",
   "metadata": {},
   "outputs": [
    {
     "name": "stdout",
     "output_type": "stream",
     "text": [
      "Enter text: Hello my name is Hailey and my favorite coffee shop is Proving Ground in Milford, MI.\n",
      "the number of lower case characters is\n",
      "61\n"
     ]
    }
   ],
   "source": [
    " #ask user to enter the text \n",
    "mystring= input('Enter text: ')\n",
    "    #start count at 0 \n",
    "count= 0\n",
    "    #begin the loop that counts the number of lowercase characters\n",
    " for ch in mystring: \n",
    "    if (ch.islower()):\n",
    "        count = count+1\n",
    "#print function to show the count of lowercase characters\n",
    "print('the number of lower case characters is')\n",
    "print(count)\n",
    "    "
   ]
  },
  {
   "cell_type": "markdown",
   "id": "f28127ac",
   "metadata": {},
   "source": [
    "## Programming Exercise 1 - Initals\n",
    "Write a program that gets a string containing a person’s first, middle, and last names, and displays their first, middle, and last initials. For example, if the user enters John William Smith, the program should display J. W. S."
   ]
  },
  {
   "cell_type": "code",
   "execution_count": 24,
   "id": "982e6da4",
   "metadata": {},
   "outputs": [
    {
     "name": "stdout",
     "output_type": "stream",
     "text": [
      "Enter your full name: Hailey Elizabeth Post\n",
      "H.E.P."
     ]
    }
   ],
   "source": [
    "#set main function\n",
    "def main(): \n",
    "    #create input for user\n",
    "    full_name = input ('Enter your full name: ')\n",
    "    #split name into parts according to spaces\n",
    "    name = full_name.split()\n",
    "    #make each first character in input an inital for string in name \n",
    "    for string in name:\n",
    "        print (string[0].upper(), sep= '', end= '')\n",
    "        print ('.', sep='', end= '')\n",
    "#call main function \n",
    "main()"
   ]
  },
  {
   "cell_type": "markdown",
   "id": "7bbd5d8d",
   "metadata": {},
   "source": [
    "## Programming Exercise 2 - Sum of Digits in a String \n",
    "Write a program that asks the user to enter a series of single-digit numbers with nothing separating them. The program should display the sum of all the single digit numbers in the string. For example, if the user enters 2514, the method should return 12, which is the sum of 2, 5, 1, and 4."
   ]
  },
  {
   "cell_type": "code",
   "execution_count": 32,
   "id": "d9718b62",
   "metadata": {},
   "outputs": [
    {
     "name": "stdout",
     "output_type": "stream",
     "text": [
      "Enter a sequence of digits with nothing separating them: 123456\n"
     ]
    },
    {
     "ename": "UnboundLocalError",
     "evalue": "local variable 'string_total' referenced before assignment",
     "output_type": "error",
     "traceback": [
      "\u001b[0;31m---------------------------------------------------------------------------\u001b[0m",
      "\u001b[0;31mUnboundLocalError\u001b[0m                         Traceback (most recent call last)",
      "Cell \u001b[0;32mIn[32], line 25\u001b[0m\n\u001b[1;32m     23\u001b[0m         \u001b[38;5;28;01mreturn\u001b[39;00m total \n\u001b[1;32m     24\u001b[0m \u001b[38;5;66;03m#call the main function\u001b[39;00m\n\u001b[0;32m---> 25\u001b[0m \u001b[43mmain\u001b[49m\u001b[43m(\u001b[49m\u001b[43m)\u001b[49m\n",
      "Cell \u001b[0;32mIn[32], line 6\u001b[0m, in \u001b[0;36mmain\u001b[0;34m()\u001b[0m\n\u001b[1;32m      4\u001b[0m number_string \u001b[38;5;241m=\u001b[39m \u001b[38;5;28minput\u001b[39m(\u001b[38;5;124m'\u001b[39m\u001b[38;5;124mEnter a sequence of digits with nothing separating them: \u001b[39m\u001b[38;5;124m'\u001b[39m)\n\u001b[1;32m      5\u001b[0m \u001b[38;5;66;03m#call string_total method to store total\u001b[39;00m\n\u001b[0;32m----> 6\u001b[0m total \u001b[38;5;241m=\u001b[39m \u001b[43mstring_total\u001b[49m (number_string)\n\u001b[1;32m      7\u001b[0m \u001b[38;5;66;03m#display the total\u001b[39;00m\n\u001b[1;32m      8\u001b[0m \u001b[38;5;28mprint\u001b[39m (\u001b[38;5;124m'\u001b[39m\u001b[38;5;124mThe total of the digits in the string you entered is\u001b[39m\u001b[38;5;124m'\u001b[39m, total)\n",
      "\u001b[0;31mUnboundLocalError\u001b[0m: local variable 'string_total' referenced before assignment"
     ]
    }
   ],
   "source": [
    "#set main function \n",
    "def main ():\n",
    "    #get a string of numbers for input from user \n",
    "    number_string = input('Enter a sequence of digits with nothing separating them: ')\n",
    "    #call string_total method to store total\n",
    "     string_total (number_string)\n",
    "    #display the total\n",
    "    print ('The total of the digits in the string you entered is', total)\n",
    "    #using the string_method allows the recieved string to return the total of the digits in the string\n",
    "    #doesn't consider non-digit characters\n",
    "    def string_total (string):\n",
    "        #set variables starting points\n",
    "        total = 0\n",
    "        number = 0\n",
    "        \n",
    "        #step through each character in the string \n",
    "        for char in string:\n",
    "            #convert character to integer \n",
    "            if char.isdigit():1\n",
    "            #add value to running total\n",
    "            total += int(char) \n",
    "        #return the total\n",
    "        return total \n",
    "#call the main function\n",
    "main()\n",
    "    "
   ]
  },
  {
   "cell_type": "code",
   "execution_count": 29,
   "id": "25fb1892",
   "metadata": {},
   "outputs": [
    {
     "name": "stdout",
     "output_type": "stream",
     "text": [
      "Enter a series of single-digit numbers: 123456\n",
      "The sum of the single-digit numbers is: 21\n"
     ]
    }
   ],
   "source": [
    "def calculate_sum(numbers):\n",
    "    total = 0\n",
    "    for digit in numbers:\n",
    "        total += int(digit)\n",
    "    return total\n",
    "\n",
    "\n",
    "# Get the series of single-digit numbers from the user\n",
    "number_string = input(\"Enter a series of single-digit numbers: \")\n",
    "\n",
    "# Calculate the sum of the numbers\n",
    "sum_of_digits = calculate_sum(number_string)\n",
    "\n",
    "# Display the sum\n",
    "print(\"The sum of the single-digit numbers is:\", sum_of_digits)"
   ]
  },
  {
   "cell_type": "markdown",
   "id": "45c99eb6",
   "metadata": {},
   "source": [
    "## Programming Exercise 3 - Date printer \n",
    "Write a program that reads a string from the user containing a date in the form mm/dd/yyyy. It should print the date in the format March 12, 2018."
   ]
  },
  {
   "cell_type": "code",
   "execution_count": 31,
   "id": "275e3c34",
   "metadata": {},
   "outputs": [
    {
     "name": "stdout",
     "output_type": "stream",
     "text": [
      "Enter a date in the format mm/dd/yyyy: 05/15/2005\n",
      "May 15, 2005\n"
     ]
    }
   ],
   "source": [
    "#set main function \n",
    "def main():\n",
    "    #set variables \n",
    "    day = 0 \n",
    "    month_num = 0\n",
    "    month_name = ''\n",
    "    month_list =['January', 'February', 'March', 'April', 'May', 'June', \n",
    "                 'July', 'August', 'September', 'October', 'November', 'December' ]\n",
    "    #get a date in mm/dd/yyyy format as input from user \n",
    "    date_string = input('Enter a date in the format mm/dd/yyyy: ')\n",
    "    #split date_string \n",
    "    date_list = date_string.split('/')\n",
    "    #get month and date numbers\n",
    "    month_num = int(date_list[0])\n",
    "    day = date_list[1]\n",
    "    year = date_list[2]\n",
    "    #get month_name\n",
    "    month_name = month_list[month_num - 1]\n",
    "    #create long date format string\n",
    "    long_date = month_name + ' ' + day + ', ' + year\n",
    "    #print long date \n",
    "    print (long_date)\n",
    "#call to main function\n",
    "main()\n",
    "    "
   ]
  },
  {
   "cell_type": "markdown",
   "id": "1b4a1a25",
   "metadata": {},
   "source": [
    "## Programming Exercise 8 - Sentance Capitalizer \n",
    "Write a program with a function that accepts a string as an argument and returns a copy of the string with the first character of each sentence capitalized. For instance, if the argument is “hello. my name is Joe. what is your name?” the function should return the string  The program should let the user enter a string and then pass it to the function. The modified string should be displayed."
   ]
  },
  {
   "cell_type": "code",
   "execution_count": 34,
   "id": "0fc69090",
   "metadata": {},
   "outputs": [
    {
     "name": "stdout",
     "output_type": "stream",
     "text": [
      "Hello. My name is Hailey. What is your name? \n"
     ]
    }
   ],
   "source": [
    "def capitalize_sentences(string):\n",
    "    new_sentence = True\n",
    "    result = ''\n",
    "    words = string.split()\n",
    "\n",
    "    for item in words:\n",
    "        if new_sentence:\n",
    "            result_word = item[0].upper() + item[1:]\n",
    "        else:\n",
    "            result_word = item\n",
    "\n",
    "        result += result_word + ' '\n",
    "\n",
    "        if item[-1] == '.' or item[-1] == '?' or item[-1] == '!':\n",
    "            new_sentence = True\n",
    "        else:\n",
    "            new_sentence = False\n",
    "\n",
    "    return result\n",
    "\n",
    "# Call the main function\n",
    "sentence = \"this is a test. this is another test?\"\n",
    "capitalized_sentence = capitalize_sentences(sentence)\n",
    "print(capitalized_sentence)\n"
   ]
  }
 ],
 "metadata": {
  "kernelspec": {
   "display_name": "Python 3 (ipykernel)",
   "language": "python",
   "name": "python3"
  },
  "language_info": {
   "codemirror_mode": {
    "name": "ipython",
    "version": 3
   },
   "file_extension": ".py",
   "mimetype": "text/x-python",
   "name": "python",
   "nbconvert_exporter": "python",
   "pygments_lexer": "ipython3",
   "version": "3.10.9"
  }
 },
 "nbformat": 4,
 "nbformat_minor": 5
}
