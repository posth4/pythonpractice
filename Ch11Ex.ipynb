{
 "cells": [
  {
   "cell_type": "markdown",
   "id": "210e7735",
   "metadata": {},
   "source": [
    "# Programming Exercise 2 - Shift Supervisor\n",
    "In a particular factory, a shift supervisor is a salaried employee who supervises a shift. In addition to a salary, the shift supervisor earns a yearly bonus when his or her shift meets production goals. Write a  class that is a subclass of the  class you created in Programming Exercise 1. The  class should keep a data attribute for the annual salary, and a data attribute for the annual production bonus that a shift supervisor has earned. Demonstrate the class by writing a program that uses a  object."
   ]
  },
  {
   "cell_type": "code",
   "execution_count": 3,
   "id": "8758f339",
   "metadata": {},
   "outputs": [
    {
     "name": "stdout",
     "output_type": "stream",
     "text": [
      "Enter shift supervisor name: Bre\n",
      "Enter shift supervisor employee number: 111\n",
      "Enter annual salary: 100000\n",
      "Enter annual production bonus: 20000\n",
      "Shift Supervisor Name: Bre\n",
      "Shift Supervisor Employee Number: 111\n",
      "Annual Salary: 100000.0\n",
      "Annual Production Bonus: 20000.0\n"
     ]
    }
   ],
   "source": [
    "import shift\n",
    "# Create an object of the ShiftSupervisor class and prompt the user to enter data\n",
    "def main():\n",
    "    name = input(\"Enter shift supervisor name: \")\n",
    "    emp_number = input(\"Enter shift supervisor employee number: \")\n",
    "    annual_salary = float(input(\"Enter annual salary: \"))\n",
    "    annual_production_bonus = float(input(\"Enter annual production bonus: \"))\n",
    "\n",
    "    # Create ShiftSupervisor object\n",
    "    supervisor = ShiftSupervisor(name, emp_number, annual_salary, annual_production_bonus)\n",
    "    \n",
    "    # Display the entered data using accessor methods\n",
    "    print(\"Shift Supervisor Name:\", supervisor.get_name())\n",
    "    print(\"Shift Supervisor Employee Number:\", supervisor.get_emp_number())\n",
    "    print(\"Annual Salary:\", supervisor.get_annual_salary())\n",
    "    print(\"Annual Production Bonus:\", supervisor.get_annual_production_bonus())\n",
    "\n",
    "\n",
    "# Call the main function to start the program\n",
    "if __name__ == \"__main__\":\n",
    "    main()"
   ]
  },
  {
   "cell_type": "markdown",
   "id": "fdd840b0",
   "metadata": {},
   "source": [
    "# Programming Exercise 3 - Person and Customer Classes\n",
    "Write a class named  with data attributes for a person’s name, address, and telephone number. Next, write a class named  that is a subclass of the  class. The  class should have a data attribute for a customer number, and a Boolean data attribute indicating whether the customer wishes to be on a mailing list. Demonstrate an instance of the  class in a simple program."
   ]
  },
  {
   "cell_type": "code",
   "execution_count": null,
   "id": "c5422fd5",
   "metadata": {},
   "outputs": [],
   "source": [
    "import customer\n",
    "\n",
    "def main():\n",
    "    # Get some customer info from the user\n",
    "    name = input('Name: ')\n",
    "    address = input('Address: ')\n",
    "    phone = input('Phone: ')\n",
    "    customer_number = input('Customer number: ')\n",
    "    mail = input('Include in mailing list? (y/n): ')\n",
    "\n",
    "    # Determine if True or False for mailing list\n",
    "    if mail.lower() == 'y': \n",
    "        mailing_list = True\n",
    "    else: \n",
    "        mailing_list = False\n",
    "\n",
    "    # Create an instance of the customer class\n",
    "    my_customer = customer.Customer(name, address, phone, customer_number, mailing_list)\n",
    "\n",
    "    # Display the object's data\n",
    "    print('Customer Information')\n",
    "    print('--------------------')\n",
    "    print('Name:', my_customer.get_name())\n",
    "    print('Address:', my_customer.get_address())\n",
    "    print('Phone:', my_customer.get_phone())\n",
    "    print('Customer number:', my_customer.get_customer_number())\n",
    "    print('Mailing list:', my_customer.get_mailing_list())\n",
    "\n",
    "if __name__ == \"__main__\":\n",
    "    main()"
   ]
  }
 ],
 "metadata": {
  "kernelspec": {
   "display_name": "Python 3 (ipykernel)",
   "language": "python",
   "name": "python3"
  },
  "language_info": {
   "codemirror_mode": {
    "name": "ipython",
    "version": 3
   },
   "file_extension": ".py",
   "mimetype": "text/x-python",
   "name": "python",
   "nbconvert_exporter": "python",
   "pygments_lexer": "ipython3",
   "version": "3.10.9"
  }
 },
 "nbformat": 4,
 "nbformat_minor": 5
}
