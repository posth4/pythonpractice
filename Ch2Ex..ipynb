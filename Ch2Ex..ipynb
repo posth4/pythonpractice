{
 "cells": [
  {
   "cell_type": "markdown",
   "id": "25ba4a1f",
   "metadata": {},
   "source": [
    "# Chapter 2 Exercises \n",
    "\n",
    "In the 3 following exercises, we practice python code assignments using new variables and calculations."
   ]
  },
  {
   "cell_type": "markdown",
   "id": "16582daa",
   "metadata": {},
   "source": [
    "## Algorithm Workbench - Number 9\n",
    "\n",
    "We are presented with a problem involving the learned knowledge of Variable Reassignment. This process means that when you assign a variable, it will stay referencing that variable until it is assigned to a new value. In the Algorithm Workbench number 9, the book asks us to show what the print would be with two numbers given above, the question is refering to this new term of variable reassignment. "
   ]
  },
  {
   "cell_type": "code",
   "execution_count": 3,
   "id": "013bf5bb",
   "metadata": {},
   "outputs": [
    {
     "name": "stdout",
     "output_type": "stream",
     "text": [
      "5\n"
     ]
    }
   ],
   "source": [
    "num = 99\n",
    "num = 5 \n",
    "print(num)"
   ]
  },
  {
   "cell_type": "markdown",
   "id": "c7509be6",
   "metadata": {},
   "source": [
    "In the problem above, I ran the code provided to show the variable reassignment of the intial number being 99 but because we changed the number to 5 before printing, the outcome of the code would be 5. "
   ]
  },
  {
   "cell_type": "markdown",
   "id": "743aba98",
   "metadata": {},
   "source": [
    "## Programming Exercises - Number 1\n",
    "In this exercise, we are asked to describe the name, phone number, address, and college major of a student. In order to answer this question we must name our variables for each of these. This question helps with determining what variables are allowed to be used in order for the code to run. It also helped me understand the use of input and output. I learned that after I assign a variable, I must use quotation marks around the variables assignment. "
   ]
  },
  {
   "cell_type": "code",
   "execution_count": 5,
   "id": "546c0381",
   "metadata": {},
   "outputs": [
    {
     "name": "stdout",
     "output_type": "stream",
     "text": [
      "Hailey Post\n",
      "1234 Smith Rd Commerce MI 48382\n",
      "987-654-3210\n",
      "Business\n"
     ]
    }
   ],
   "source": [
    "name = 'Hailey Post'\n",
    "address = '1234 Smith Rd Commerce MI 48382'\n",
    "phonenumber = '987-654-3210'\n",
    "major = 'Business'\n",
    "\n",
    "print (name)\n",
    "print (address)\n",
    "print (phonenumber)\n",
    "print (major)\n",
    "\n",
    "\n"
   ]
  },
  {
   "cell_type": "markdown",
   "id": "9c0665a1",
   "metadata": {},
   "source": [
    "In the problem above, I ran the code to insure that I correctly spelled each variable and placed each variables assignment in the correct location. I had to retry the process a couple times until it was how I wanted it to look."
   ]
  },
  {
   "cell_type": "markdown",
   "id": "bbbe3f7b",
   "metadata": {},
   "source": [
    "## Programming Exercises - Number 13\n",
    "In this exercise, we are asked to construct a calculation for a vineyard owner using \"V\" for the number of grapevines that will fit in the row, \"R\" for the length of the row, in feet, \"E\" for the amount of space, in feet, used by an end-post assembly, and S for the space between vines, in feet. The point of this exercise is to be able to take each of these measurements and create them as an input. Then we should be able to show our equation process to make an output for the number of grapevines that will fit in a row."
   ]
  },
  {
   "cell_type": "code",
   "execution_count": 6,
   "id": "e4722695",
   "metadata": {},
   "outputs": [
    {
     "name": "stdout",
     "output_type": "stream",
     "text": [
      "Enter the length of the row, in feet: 1200\n",
      "Enter the amount of space, in feet, used by an end-post assembly: 20\n",
      "Enter the space between vines, in feet: 3\n",
      "Number of grapevines that will fit in a row =  386.6666666666667\n"
     ]
    }
   ],
   "source": [
    "#Input\n",
    "R = float(input('Enter the length of the row, in feet: '))\n",
    "E = float(input('Enter the amount of space, in feet, used by an end-post assembly: '))\n",
    "S = float(input('Enter the space between vines, in feet: '))\n",
    "\n",
    "#Process\n",
    "V = (R - (2 * E)) / S\n",
    "\n",
    "#Output \n",
    "print ('Number of grapevines that will fit in a row = ', V)"
   ]
  },
  {
   "cell_type": "markdown",
   "id": "f854caaa",
   "metadata": {},
   "source": [
    "Above I showed the process of creating this math calculation into a code. After creating the base to the code I then entered numbers for R,E,S to allow the code to \"work its magic\" and create the outcome of V. This process was actually super interesting to me because I didn't realize that code could create a math problem like this and be able to solve it. "
   ]
  }
 ],
 "metadata": {
  "kernelspec": {
   "display_name": "Python 3 (ipykernel)",
   "language": "python",
   "name": "python3"
  },
  "language_info": {
   "codemirror_mode": {
    "name": "ipython",
    "version": 3
   },
   "file_extension": ".py",
   "mimetype": "text/x-python",
   "name": "python",
   "nbconvert_exporter": "python",
   "pygments_lexer": "ipython3",
   "version": "3.10.9"
  }
 },
 "nbformat": 4,
 "nbformat_minor": 5
}
