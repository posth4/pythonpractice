{
 "cells": [
  {
   "cell_type": "markdown",
   "id": "0eddbfa8",
   "metadata": {},
   "source": [
    "# Chapter 5 Exercises "
   ]
  },
  {
   "cell_type": "markdown",
   "id": "5267e6da",
   "metadata": {},
   "source": [
    "## Algorithm Workbench 1\n",
    "This exercise asks us to write a function named times_ten. This function should accept an argument and display the product of its argument multiplied times 10."
   ]
  },
  {
   "cell_type": "code",
   "execution_count": 6,
   "id": "0616cc6a",
   "metadata": {},
   "outputs": [],
   "source": [
    "def times_ten(number):\n",
    "    product=number*10\n",
    "    print(product)"
   ]
  },
  {
   "cell_type": "markdown",
   "id": "82c650a6",
   "metadata": {},
   "source": [
    "## Algorithm Workbench 4\n",
    "This question asks us to show us what the following program will display:"
   ]
  },
  {
   "cell_type": "code",
   "execution_count": 10,
   "id": "c3a59a2f",
   "metadata": {},
   "outputs": [
    {
     "name": "stdout",
     "output_type": "stream",
     "text": [
      "1 3.4\n",
      "0 0\n",
      "1 3.4\n"
     ]
    }
   ],
   "source": [
    "def main():\n",
    "    x = 1\n",
    "    y = 3.4\n",
    "    print(x, y)\n",
    "    change_us(x, y)\n",
    "    print(x, y)\n",
    "def change_us(a, b):\n",
    "    a = 0 \n",
    "    b = 0\n",
    "    print(a, b)\n",
    "main()"
   ]
  },
  {
   "cell_type": "markdown",
   "id": "8f891f24",
   "metadata": {},
   "source": [
    "The above program shows us that the numbers displayed will be 1 3.4 \n",
    "                                                              0 0 \n",
    "                                                              1 3.4"
   ]
  },
  {
   "cell_type": "markdown",
   "id": "c489fcfa",
   "metadata": {},
   "source": [
    "# Programming Exercise 1 \n",
    "Kilometer Convertor \n",
    "This exercise asks us to write a program that asks the user to enter a distance in kilometers, then uses a function to convert that distance to miles. The conversion formula is as follows: miles = kilometer x 0.6214\n"
   ]
  },
  {
   "cell_type": "code",
   "execution_count": 16,
   "id": "ffb6c758",
   "metadata": {},
   "outputs": [
    {
     "name": "stdout",
     "output_type": "stream",
     "text": [
      "Enter a distance in kilometers: 10\n",
      "10.0 kilometers equals 6.14 miles.\n"
     ]
    }
   ],
   "source": [
    "conversion_factor = 0.614\n",
    "\n",
    "def main ():\n",
    "    #Get the distance in Kilometers\n",
    "    kilometers = float(input('Enter a distance in kilometers: '))\n",
    "    \n",
    "    #Display the distance converted to miles. \n",
    "    show_miles(kilometers)\n",
    "\n",
    "\n",
    "def show_miles(km):\n",
    "    #Calculate Miles.\n",
    "    miles = km * conversion_factor \n",
    "    \n",
    "    #Display the miles\n",
    "    print (km, 'kilometers equals', miles, 'miles.')\n",
    "    \n",
    "main()\n",
    "    \n"
   ]
  },
  {
   "cell_type": "markdown",
   "id": "43b5f54b",
   "metadata": {},
   "source": [
    "## Programming Exercise 16 \"Prime Numbers\"\n",
    "In this exercise we are asked to write a Boolean function named is_prime which takes an integer as an argument and returns true if the argument is a prime number, or false otherwise. Use the function in a program that prompts the user to enter a number then displays a message indicating whether the number is prime."
   ]
  },
  {
   "cell_type": "code",
   "execution_count": 22,
   "id": "cd00a5b8",
   "metadata": {},
   "outputs": [
    {
     "ename": "IndentationError",
     "evalue": "expected an indented block after 'if' statement on line 4 (2249887403.py, line 5)",
     "output_type": "error",
     "traceback": [
      "\u001b[0;36m  Cell \u001b[0;32mIn[22], line 5\u001b[0;36m\u001b[0m\n\u001b[0;31m    return False\u001b[0m\n\u001b[0m    ^\u001b[0m\n\u001b[0;31mIndentationError\u001b[0m\u001b[0;31m:\u001b[0m expected an indented block after 'if' statement on line 4\n"
     ]
    }
   ],
   "source": [
    "def is_prime(n):\n",
    "    if number > 1:\n",
    "        for divisor in range: (n,2)\n",
    "        if (number % divisor) == 0:\n",
    "        return False\n",
    "    break\n",
    "    else:\n",
    "        return True \n",
    "    else:\n",
    "        return False\n",
    "    n=(int(input(\"Enter a Number:\")))\n",
    "    if is_prime(number):\n",
    "        print(number, 'is a prime number.'\n",
    "    else:\n",
    "        print(number, 'is not a prime number.')\n",
    "    "
   ]
  },
  {
   "cell_type": "code",
   "execution_count": 24,
   "id": "423dbab4",
   "metadata": {},
   "outputs": [
    {
     "name": "stdout",
     "output_type": "stream",
     "text": [
      "Enter a number: 3\n",
      "3 is not a prime number.\n"
     ]
    }
   ],
   "source": [
    "def is_prime(number):\n",
    "    if number > 1:\n",
    "        return False\n",
    "    for divisor in range (number, 2): \n",
    "        if number % divisor ==0: \n",
    "            return False \n",
    "    return True \n",
    "number = int(input('Enter a number: '))\n",
    "if is_prime(number):\n",
    "    print(number, 'is a prime number.')\n",
    "else:\n",
    "    print(number, 'is not a prime number.')"
   ]
  },
  {
   "cell_type": "markdown",
   "id": "d80c8427",
   "metadata": {},
   "source": [
    "##  Programming Exercise 17 \"Prime Numbers List\"\n",
    "For this excersise we are asked to write another program that displays all of the prime numbers from 1 to 100. The program should have a loop that calls the is_prime function."
   ]
  },
  {
   "cell_type": "code",
   "execution_count": 26,
   "id": "92ad2a84",
   "metadata": {},
   "outputs": [
    {
     "name": "stdout",
     "output_type": "stream",
     "text": [
      "Enter a number: 102\n",
      "102 is not a prime number.\n"
     ]
    }
   ],
   "source": [
    "def is_prime(number):\n",
    "    if number > 1:\n",
    "        return False\n",
    "    for divisor in range (number, 2): \n",
    "        if number % divisor ==0: \n",
    "            return False \n",
    "    return True \n",
    "number = int(input('Enter a number: '))\n",
    "if is_prime(number):\n",
    "    print(number, 'is a prime number.')\n",
    "else:\n",
    "    print(number, 'is not a prime number.')\n",
    "#Everything above was the same as question 16, now we have to display all the numbers from 1 to 100 in this step of the code\n",
    "\n",
    "for number in range (1, 101):\n",
    "    if is_prime(number):\n",
    "        print (number, end= ' ')"
   ]
  },
  {
   "cell_type": "code",
   "execution_count": 27,
   "id": "510313cd",
   "metadata": {},
   "outputs": [
    {
     "name": "stdout",
     "output_type": "stream",
     "text": [
      "2 3 5 7 11 13 17 19 23 29 31 37 41 43 47 53 59 61 67 71 73 79 83 89 97 "
     ]
    }
   ],
   "source": [
    "def is_prime(number):\n",
    "    if number < 2:\n",
    "        return False\n",
    "    for divisor in range(2, int(number**0.5) + 1):\n",
    "        if number % divisor == 0:\n",
    "            return False\n",
    "    return True\n",
    "\n",
    "for number in range(1, 101):\n",
    "    if is_prime(number):\n",
    "        print(number, end=' ')"
   ]
  },
  {
   "cell_type": "markdown",
   "id": "4697cb1e",
   "metadata": {},
   "source": [
    "I'm not sure how changing my original code helped this question be correct when my last question ran as the code should, so I allowed my self to use an outside resource to be able to correct my mistake from the problem and now I see that it had to do with my original method of code and how I needed to change the first 4 lines of my original code to have it be correct. "
   ]
  },
  {
   "cell_type": "markdown",
   "id": "3ec71fe4",
   "metadata": {},
   "source": [
    "## Programming Exercise 9\n",
    "In this question we are asked to write a function named feet_to_inches that accepts a number of feet as an argument and returns the number of inches in that many feet."
   ]
  },
  {
   "cell_type": "code",
   "execution_count": 33,
   "id": "2c239216",
   "metadata": {},
   "outputs": [
    {
     "name": "stdout",
     "output_type": "stream",
     "text": [
      "10 feet is 120 inches\n"
     ]
    }
   ],
   "source": [
    "def feet_to_inches(feet):\n",
    "    return feet * 12\n",
    "\n",
    "\n",
    "    inches = feet_to_inches(1)\n",
    "\n",
    "    inches \n",
    "\n",
    "\n",
    "print('10 feet is', feet_to_inches(10), 'inches')"
   ]
  },
  {
   "cell_type": "code",
   "execution_count": 35,
   "id": "143cbe0f",
   "metadata": {},
   "outputs": [
    {
     "name": "stdout",
     "output_type": "stream",
     "text": [
      "Enter a number of feet: 120\n",
      "120 equals 1440 inches.\n"
     ]
    }
   ],
   "source": [
    "#Constant for number of inches per foot\n",
    "inches_per_foot=12 \n",
    "\n",
    "#main function\n",
    "def main():\n",
    "    #get number of feet from user \n",
    "    feet= int(input('Enter a number of feet: '))\n",
    "    \n",
    "    #convert to inches \n",
    "    print (feet, 'equals', feet_to_inches(feet), 'inches.')\n",
    "def feet_to_inches(feet):\n",
    "    return feet * inches_per_foot\n",
    "#call main function\n",
    "main()"
   ]
  }
 ],
 "metadata": {
  "kernelspec": {
   "display_name": "Python 3 (ipykernel)",
   "language": "python",
   "name": "python3"
  },
  "language_info": {
   "codemirror_mode": {
    "name": "ipython",
    "version": 3
   },
   "file_extension": ".py",
   "mimetype": "text/x-python",
   "name": "python",
   "nbconvert_exporter": "python",
   "pygments_lexer": "ipython3",
   "version": "3.10.9"
  }
 },
 "nbformat": 4,
 "nbformat_minor": 5
}
